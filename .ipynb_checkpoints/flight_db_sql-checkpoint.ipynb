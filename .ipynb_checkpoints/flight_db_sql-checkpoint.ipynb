{
 "cells": [
  {
   "cell_type": "code",
   "execution_count": 1,
   "metadata": {},
   "outputs": [],
   "source": [
    "import requests\n",
    "import json\n",
    "from pprint import pprint \n",
    "import pandas as pd\n",
    "from sqlalchemy import create_engine, inspect\n",
    "from sqlalchemy.ext.declarative import declarative_base\n",
    "from sqlalchemy.orm import Session\n",
    "import sqlite3\n",
    "Base = declarative_base()"
   ]
  },
  {
   "cell_type": "code",
   "execution_count": 2,
   "metadata": {},
   "outputs": [],
   "source": [
    "# Pull in combined data for airlines\n",
    "\n",
    "American_Alaskan = pd.read_csv(\"Resources/CSV/Combined/AA_concat.csv\")\n",
    "Delta = pd.read_csv(\"Resources/CSV/Combined/Delta_Airlines.csv\")\n",
    "Southwest = pd.read_csv(\"Resources/CSV/Combined/Southwest_Airlines.csv\")\n",
    "United = pd.read_csv(\"Resources/CSV/Combined/United_Airlines.csv\")\n",
    "\n",
    "# Clean up column headers so that all data is matching\n",
    "American_Alaskan.rename(columns={'Origin Airport':'Origin_Airport',\n",
    "                          'Carrier Code':'Carrier_Code',\n",
    "                          'Destination Airport':'Destination_Airport',\n",
    "                          'Date (MM/DD/YYYY)':'Date'},\n",
    "                 inplace=True)\n",
    "\n",
    "AA = American_Alaskan[American_Alaskan.columns.drop('Unnamed: 0')]\n",
    "\n",
    "Delta.rename(columns={'Carrier Code':'Carrier_Code',\n",
    "                      'Date (MM/DD/YYYY)':'Date'},\n",
    "                 inplace=True)\n",
    "\n",
    "Southwest.rename(columns={'Date (MM/DD/YYYY)':'Date'},\n",
    "                inplace=True)\n",
    "\n",
    "United.rename(columns={'Date (MM/DD/YYYY)':'Date'},\n",
    "                inplace=True)"
   ]
  },
  {
   "cell_type": "code",
   "execution_count": 3,
   "metadata": {},
   "outputs": [],
   "source": [
    "# Create SQLite engine\n",
    "engine = create_engine('sqlite:///flights.sqlite', echo=False)\n",
    "inspector = inspect(engine)\n",
    "Base.metadata.create_all(engine)\n",
    "session= Session(engine)"
   ]
  },
  {
   "cell_type": "code",
   "execution_count": null,
   "metadata": {},
   "outputs": [],
   "source": [
    "# Create table and append airline flights data\n",
    "con=engine\n",
    "con.execute('DROP TABLE IF EXISTS flights')\n",
    "AA.to_sql('flights', con)\n",
    "Delta.to_sql('flights', con, if_exists='append', index=False)\n",
    "Southwest.to_sql('flights', con, if_exists='append', index=False)\n",
    "United.to_sql('flights', con, if_exists='append', index=False)\n",
    "\n",
    "# Count the data stored within the newly created database\n",
    "engine.execute(\"SELECT COUNT(*) FROM flights\").fetchall()"
   ]
  },
  {
   "cell_type": "code",
   "execution_count": null,
   "metadata": {},
   "outputs": [],
   "source": [
    "# Database too large. Drop data from all years except 2018.\n",
    "\n",
    "engine.execute(\"DELETE FROM flights WHERE Date LIKE '%2019%'\")\n",
    "engine.execute(\"DELETE FROM flights WHERE Date LIKE '%2017%'\")\n",
    "engine.execute(\"DELETE FROM flights WHERE Date LIKE '%2016%'\")\n",
    "engine.execute(\"DELETE FROM flights WHERE Date LIKE '%2015%'\")\n",
    "engine.execute(\"DELETE FROM flights WHERE Date LIKE '%2014%'\")\n",
    "\n",
    "engine.execute(\"SELECT COUNT(*) FROM flights\").fetchall()"
   ]
  },
  {
   "cell_type": "code",
   "execution_count": null,
   "metadata": {},
   "outputs": [],
   "source": [
    "# Use vacuum to rebuild the main data base and change the file size from 217MB to 46,232KB\n",
    "engine.execute(\"vacuum\")"
   ]
  },
  {
   "cell_type": "code",
   "execution_count": null,
   "metadata": {},
   "outputs": [],
   "source": [
    "engine.execute(\"SELECT COUNT(*) FROM flights\").fetchall()"
   ]
  },
  {
   "cell_type": "code",
   "execution_count": null,
   "metadata": {},
   "outputs": [],
   "source": []
  }
 ],
 "metadata": {
  "kernelspec": {
   "display_name": "Python 3",
   "language": "python",
   "name": "python3"
  },
  "language_info": {
   "codemirror_mode": {
    "name": "ipython",
    "version": 3
   },
   "file_extension": ".py",
   "mimetype": "text/x-python",
   "name": "python",
   "nbconvert_exporter": "python",
   "pygments_lexer": "ipython3",
   "version": "3.7.3"
  }
 },
 "nbformat": 4,
 "nbformat_minor": 2
}
